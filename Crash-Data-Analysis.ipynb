{
 "cells": [
  {
   "cell_type": "code",
   "execution_count": null,
   "id": "MJUe",
   "metadata": {},
   "outputs": [],
   "source": [
    "import ckanapi\n",
    "from pprint import pprint\n",
    "\n",
    "site = \"https://data.wprdc.org\""
   ]
  },
  {
   "cell_type": "code",
   "execution_count": null,
   "id": "bkHC",
   "metadata": {},
   "outputs": [],
   "source": [
    "def get_resource_data(site,resource_id,count=50):\n",
    "    # Use the datastore_search API endpoint to get <count> records from\n",
    "    # a CKAN resource.\n",
    "    ckan = ckanapi.RemoteCKAN(site)\n",
    "    response = ckan.action.datastore_search(id=resource_id, limit=count)\n",
    "\n",
    "    # A typical response is a dictionary like this\n",
    "    #{u'_links': {u'next': u'/api/action/datastore_search?offset=3',\n",
    "    #             u'start': u'/api/action/datastore_search'},\n",
    "    # u'fields': [{u'id': u'_id', u'type': u'int4'},\n",
    "    #             {u'id': u'pin', u'type': u'text'},\n",
    "    #             {u'id': u'number', u'type': u'int4'},\n",
    "    #             {u'id': u'total_amount', u'type': u'float8'}],\n",
    "    # u'limit': 3,\n",
    "    # u'records': [{u'_id': 1,\n",
    "    #               u'number': 11,\n",
    "    #               u'pin': u'0001B00010000000',\n",
    "    #               u'total_amount': 13585.47},\n",
    "    #              {u'_id': 2,\n",
    "    #               u'number': 2,\n",
    "    #               u'pin': u'0001C00058000000',\n",
    "    #               u'total_amount': 7827.64},\n",
    "    #              {u'_id': 3,\n",
    "    #               u'number': 1,\n",
    "    #               u'pin': u'0001C01661006700',\n",
    "    #               u'total_amount': 3233.59}],\n",
    "    # u'resource_id': u'd1e80180-5b2e-4dab-8ec3-be621628649e',\n",
    "    # u'total': 88232}\n",
    "    data = response['records']\n",
    "    return data"
   ]
  },
  {
   "cell_type": "code",
   "execution_count": null,
   "id": "PKri",
   "metadata": {},
   "outputs": [],
   "source": [
    "crash_data_2017 = get_resource_data(site,resource_id=\"bf8b3c7e-8d60-40df-9134-21606a451c1a\",count=999999999)"
   ]
  },
  {
   "cell_type": "code",
   "execution_count": null,
   "id": "SFPL",
   "metadata": {},
   "outputs": [],
   "source": [
    "len(crash_data_2017)"
   ]
  },
  {
   "cell_type": "code",
   "execution_count": null,
   "id": "RGSE",
   "metadata": {},
   "outputs": [],
   "source": [
    "pprint(crash_data_2017[2])"
   ]
  },
  {
   "cell_type": "code",
   "execution_count": null,
   "id": "Kclp",
   "metadata": {},
   "outputs": [],
   "source": [
    "sum([c['INJURY_COUNT'] for c in crash_data_2017 if c['INJURY_COUNT'] is not None]) #crash_injuries_2017"
   ]
  },
  {
   "cell_type": "code",
   "execution_count": null,
   "id": "Hstk",
   "metadata": {},
   "outputs": [],
   "source": [
    "def sum_over_field(table,field_name):\n",
    "    return sum([c[field_name] for c in crash_data_2017 if c[field_name] is not None])"
   ]
  },
  {
   "cell_type": "code",
   "execution_count": null,
   "id": "iLit",
   "metadata": {},
   "outputs": [],
   "source": [
    "sum_over_field(crash_data_2017,'INJURY_COUNT')"
   ]
  },
  {
   "cell_type": "code",
   "execution_count": null,
   "id": "ROlb",
   "metadata": {},
   "outputs": [],
   "source": [
    "total_2017_crashes = len(crash_data_2017)\n",
    "sum_over_field(crash_data_2017,'PEDESTRIAN')/total_2017_crashes"
   ]
  },
  {
   "cell_type": "code",
   "execution_count": null,
   "id": "Vxnm",
   "metadata": {},
   "outputs": [],
   "source": [
    "boolean_fields = ['AGGRESSIVE_DRIVING', 'ALCOHOL_RELATED', 'BICYCLE', 'CELL_PHONE', 'COMM_VEHICLE', 'CROSS_MEDIAN', \n",
    "                  'CURVED_ROAD', 'CURVE_DVR_ERROR', 'DEER_RELATED', 'DISTRACTED', 'DRINKING_DRIVER', 'DRIVER_16YR',\n",
    "                  'DRIVER_17YR', 'DRIVER_18YR', 'DRIVER_19YR', 'DRIVER_20YR', 'DRIVER_50_64YR', 'DRIVER_65_74YR', 'DRIVER_75PLUS',\n",
    "                  'DRUGGED_DRIVER', 'DRUG_RELATED', 'FATAL', 'FATAL_OR_MAJ_INJ', 'FATIGUE_ASLEEP', 'FIRE_IN_VEHICLE', \n",
    "                  'HAZARDOUS_TRUCK', 'HIT_BARRIER', 'HIT_BRIDGE', 'HIT_DEER', 'HIT_EMBANKMENT', 'HIT_FIXED_OBJECT',\n",
    "                  'HIT_GDRAIL', 'HIT_GDRAIL_END', 'HIT_PARKED_VEHICLE', 'HIT_POLE', 'HIT_TREE_SHRUB', 'HO_OPPDIR_SDSWP',\n",
    "                  'HVY_TRUCK_RELATED', 'ICY_ROAD', 'ILLEGAL_DRUG_RELATED', 'ILLUMINATION_DARK', 'IMPAIRED_DRIVER', 'INJURY', \n",
    "                  'INJURY_OR_FATAL', 'INTERSECTION', 'INTERSTATE', 'LANE_CLOSED', 'LIMIT_65MPH', 'LOCAL_ROAD', 'LOCAL_ROAD_ONLY', \n",
    "                  'MAJOR_INJURY', 'MC_DRINKING_DRIVER', 'MINOR_INJURY', 'MODERATE_INJURY', 'MOTORCYCLE', 'NHTSA_AGG_DRIVING', \n",
    "                  'NON_INTERSECTION', 'NO_CLEARANCE', 'OVERTURNED', 'PEDESTRIAN', 'PHANTOM_VEHICLE', 'PROPERTY_DAMAGE_ONLY', \n",
    "                  'PSP_REPORTED', 'REAR_END', 'RUNNING_RED_LT', 'RUNNING_STOP_SIGN', 'SCHOOL_BUS', 'SCHOOL_ZONE', \n",
    "                  'SHLDR_RELATED', 'SIGNALIZED_INT', 'SNOW_SLUSH_ROAD', 'SPEEDING', 'SPEEDING_RELATED', 'STATE_ROAD',\n",
    "                  'STOP_CONTROLLED_INT', 'SUDDEN_DEER', 'SV_RUN_OFF_RD', 'TAILGATING', 'TRAIN', 'TRAIN_TROLLEY', \n",
    "                  'TROLLEY', 'TURNPIKE', 'UNBELTED', 'UNDERAGE_DRNK_DRV', 'UNLICENSED', 'UNSIGNALIZED_INT',\n",
    "                  'VEHICLE_FAILURE', 'VEHICLE_TOWED', 'WET_ROAD', 'WORK_ZONE']\n",
    "boolean_results = {f: sum_over_field(crash_data_2017,f) for f in boolean_fields}\n",
    "[(k, boolean_results[k]) for k in sorted(boolean_results, key=boolean_results.get, reverse=True)]"
   ]
  },
  {
   "cell_type": "code",
   "execution_count": null,
   "id": "ecfG",
   "metadata": {},
   "outputs": [],
   "source": [
    "import pandas as pd\n",
    "import numpy as np\n",
    "df = pd.DataFrame(crash_data_2017)"
   ]
  },
  {
   "cell_type": "code",
   "execution_count": null,
   "id": "Pvdt",
   "metadata": {},
   "outputs": [],
   "source": [
    "pd.options.display.max_columns = None\n",
    "df.describe()"
   ]
  },
  {
   "cell_type": "code",
   "execution_count": null,
   "id": "aLJB",
   "metadata": {},
   "outputs": [],
   "source": [
    "df[df.VEHICLE_COUNT == 10]"
   ]
  },
  {
   "cell_type": "code",
   "execution_count": null,
   "id": "xXTn",
   "metadata": {},
   "outputs": [],
   "source": [
    "df[df.VEHICLE_COUNT == 10].loc[:,['AUTOMOBILE_COUNT','BICYCLE_COUNT','BUS_COUNT','COMM_VEH_COUNT','HEAVY_TRUCK_COUNT','MOTORCYCLE_COUNT','SMALL_TRUCK_COUNT','SUV_COUNT','VAN_COUNT','VEHICLE_COUNT']]"
   ]
  },
  {
   "cell_type": "code",
   "execution_count": null,
   "id": "NCOB",
   "metadata": {},
   "outputs": [],
   "source": [
    "import matplotlib.pyplot as plt\n",
    "#df.plot.hist(by=\"VEHICLE_COUNT\", bins=11)\n",
    "vehicle_counts = [c[\"VEHICLE_COUNT\"] for c in crash_data_2017 if c[\"VEHICLE_COUNT\"] is not None]\n",
    "histog = plt.hist(vehicle_counts, density=False, bins=11)\n",
    "histog[2]"
   ]
  },
  {
   "cell_type": "code",
   "execution_count": null,
   "id": "TRpd",
   "metadata": {},
   "outputs": [],
   "source": [
    "plt.hist(vehicle_counts, density=False, bins=11, log=True)[2]"
   ]
  },
  {
   "cell_type": "code",
   "execution_count": null,
   "id": "wlCL",
   "metadata": {},
   "outputs": [],
   "source": [
    "cumulative_resource_id = \"2c13021f-74a9-4289-a1e5-fe0472c89881\""
   ]
  },
  {
   "cell_type": "code",
   "execution_count": null,
   "id": "wAgl",
   "metadata": {},
   "outputs": [],
   "source": [
    "def query_resource(site,query):\n",
    "    # Use the datastore_search_sql API endpoint to query a CKAN resource.\n",
    "    ckan = ckanapi.RemoteCKAN(site)\n",
    "    response = ckan.action.datastore_search_sql(sql=query)\n",
    "    # A typical response is a dictionary like this\n",
    "    #{u'fields': [{u'id': u'_id', u'type': u'int4'},\n",
    "    #             {u'id': u'_full_text', u'type': u'tsvector'},\n",
    "    #             {u'id': u'pin', u'type': u'text'},\n",
    "    #             {u'id': u'number', u'type': u'int4'},\n",
    "    #             {u'id': u'total_amount', u'type': u'float8'}],\n",
    "    # u'records': [{u'_full_text': u\"'0001b00010000000':1 '11':2 '13585.47':3\",\n",
    "    #               u'_id': 1,\n",
    "    #               u'number': 11,\n",
    "    #               u'pin': u'0001B00010000000',\n",
    "    #               u'total_amount': 13585.47},\n",
    "    #              {u'_full_text': u\"'0001c00058000000':3 '2':2 '7827.64':1\",\n",
    "    #               u'_id': 2,\n",
    "    #               u'number': 2,\n",
    "    #               u'pin': u'0001C00058000000',\n",
    "    #               u'total_amount': 7827.64},\n",
    "    #              {u'_full_text': u\"'0001c01661006700':3 '1':1 '3233.59':2\",\n",
    "    #               u'_id': 3,\n",
    "    #               u'number': 1,\n",
    "    #               u'pin': u'0001C01661006700',\n",
    "    #               u'total_amount': 3233.59}]\n",
    "    # u'sql': u'SELECT * FROM \"d1e80180-5b2e-4dab-8ec3-be621628649e\" LIMIT 3'}\n",
    "    data = response['records']\n",
    "    return data"
   ]
  },
  {
   "cell_type": "code",
   "execution_count": null,
   "id": "dGlV",
   "metadata": {},
   "outputs": [],
   "source": [
    "crashes_by_month = query_resource(site,\n",
    "    query='SELECT \\\"CRASH_MONTH\\\"::integer as month, count(\\\"_id\\\") as count FROM \"bf8b3c7e-8d60-40df-9134-21606a451c1a\" GROUP BY month ORDER BY month')"
   ]
  },
  {
   "cell_type": "code",
   "execution_count": null,
   "id": "SdmI",
   "metadata": {},
   "outputs": [],
   "source": [
    "crashes_by_month"
   ]
  },
  {
   "cell_type": "code",
   "execution_count": null,
   "id": "yOPj",
   "metadata": {},
   "outputs": [],
   "source": [
    "import seaborn as sns\n",
    "sns.set(style=\"white\", context=\"talk\")"
   ]
  },
  {
   "cell_type": "code",
   "execution_count": null,
   "id": "fwwy",
   "metadata": {},
   "outputs": [],
   "source": [
    "x = np.arange(1, 13)\n",
    "_y = np.array([int(c['count']) for c in crashes_by_month])\n",
    "_by_month = sns.barplot(x=x, y=_y, hue=_y, palette='BuGn_d', legend=False)\n",
    "_, _ = (_by_month.set_ylabel('Crashes'), _by_month.set_xlabel('Month'))\n",
    "_by_month"
   ]
  },
  {
   "cell_type": "code",
   "execution_count": null,
   "id": "urSm",
   "metadata": {},
   "outputs": [],
   "source": [
    "crashes_by_year = query_resource(site,\n",
    "                    query='SELECT \\\"CRASH_YEAR\\\"::integer as year, count(\\\"_id\\\")::integer as count FROM \"{}\" GROUP BY year ORDER BY year'.format(cumulative_resource_id))"
   ]
  },
  {
   "cell_type": "code",
   "execution_count": null,
   "id": "jxvo",
   "metadata": {},
   "outputs": [],
   "source": [
    "_years = np.array([c['year'] for c in crashes_by_year])\n",
    "_y = np.array([c['count'] for c in crashes_by_year])\n",
    "_by_month = sns.barplot(x=_y, y=_years, hue=_y, legend=False, palette='Blues_d', orient='h')\n",
    "_, _ = (_by_month.set_xlabel('Crashes'), _by_month.set_ylabel('Year'))\n",
    "_by_month"
   ]
  },
  {
   "cell_type": "code",
   "execution_count": null,
   "id": "CcZR",
   "metadata": {},
   "outputs": [],
   "source": [
    "years_of_alcohol_related_crashes = query_resource(site,\n",
    "    query=f'SELECT \"CRASH_YEAR\" as year FROM \"{cumulative_resource_id}\" WHERE \"ALCOHOL_RELATED\" = 1 ORDER BY year')"
   ]
  },
  {
   "cell_type": "code",
   "execution_count": null,
   "id": "YWSi",
   "metadata": {},
   "outputs": [],
   "source": [
    "from collections import Counter\n",
    "alcohol_related_crashes_by_year = Counter([d['year'] for d in years_of_alcohol_related_crashes])\n",
    "alcohol_related_crashes_by_year"
   ]
  },
  {
   "cell_type": "code",
   "execution_count": null,
   "id": "zlud",
   "metadata": {},
   "outputs": [],
   "source": [
    "alcohol_related_crashes_by_year.keys()"
   ]
  },
  {
   "cell_type": "code",
   "execution_count": null,
   "id": "tZnO",
   "metadata": {},
   "outputs": [],
   "source": [
    "_years2 = np.array(list(alcohol_related_crashes_by_year.keys()))\n",
    "_y2 = np.array(list(alcohol_related_crashes_by_year.values()))\n",
    "_by_month2 = sns.barplot(x=_y2, y=_years2, hue=_y2, legend=False, palette='Reds_d', orient='h')\n",
    "_, _ = (_by_month2.set_xlabel('Alcohol-related crashes'), _by_month2.set_ylabel('Year'))\n",
    "_by_month2"
   ]
  },
  {
   "cell_type": "code",
   "execution_count": null,
   "id": "CLip",
   "metadata": {},
   "outputs": [],
   "source": [
    "alcohol_related_counts = list(alcohol_related_crashes_by_year.values())\n",
    "all_counts = [c['count'] for c in crashes_by_year]\n",
    "ratios = [al / c for al, c in zip(alcohol_related_counts, all_counts)]\n",
    "_years3 = sorted(list(alcohol_related_crashes_by_year.keys()))\n",
    "_y3 = np.array(ratios)\n",
    "_by_month3 = sns.barplot(x=_y3, y=_years3, hue=_y3, legend=False, palette='YlOrRd_r', orient='h')\n",
    "_, _ = (_by_month3.set_xlabel('Ratio of alcohol-related crashes'), _by_month3.set_ylabel('Year'))\n",
    "_by_month3"
   ]
  },
  {
   "cell_type": "code",
   "execution_count": null,
   "id": "cEAS",
   "metadata": {},
   "outputs": [],
   "source": [
    "import marimo as mo"
   ]
  },
  {
   "cell_type": "markdown",
   "id": "Hbol",
   "metadata": {
    "marimo": {
     "config": {
      "hide_code": true
     }
    }
   },
   "source": [
    "# Importing data from a CKAN-powered data portal"
   ]
  },
  {
   "cell_type": "markdown",
   "id": "vblA",
   "metadata": {
    "marimo": {
     "config": {
      "hide_code": true
     }
    }
   },
   "source": [
    "Define a function to get data from any CKAN resource stored in the CKAN Datastore (an internal database for tabular data)."
   ]
  },
  {
   "cell_type": "markdown",
   "id": "lEQa",
   "metadata": {
    "marimo": {
     "config": {
      "hide_code": true
     }
    }
   },
   "source": [
    "Get data from the resource with ID \"bf8b3c7e-8d60-40df-9134-21606a451c1a\" (this is taken from the end of the URL for the 2017 Allegeheny County Crash Data [https://data.wprdc.org/dataset/allegheny-county-crash-data/resource/bf8b3c7e-8d60-40df-9134-21606a451c1a]). Set the row count to get to 999999999, a much larger number than the number of rows in the 2017 crash data."
   ]
  },
  {
   "cell_type": "markdown",
   "id": "Xref",
   "metadata": {
    "marimo": {
     "config": {
      "hide_code": true
     }
    }
   },
   "source": [
    "How may rows did we get?"
   ]
  },
  {
   "cell_type": "markdown",
   "id": "BYtC",
   "metadata": {
    "marimo": {
     "config": {
      "hide_code": true
     }
    }
   },
   "source": [
    "Good. We got all of them. What does a sample row look like?"
   ]
  },
  {
   "cell_type": "markdown",
   "id": "emfo",
   "metadata": {
    "marimo": {
     "config": {
      "hide_code": true
     }
    }
   },
   "source": [
    "Define a function to add up numbers in a field, ignoring None values (blanks)."
   ]
  },
  {
   "cell_type": "markdown",
   "id": "nWHF",
   "metadata": {
    "marimo": {
     "config": {
      "hide_code": true
     }
    }
   },
   "source": [
    "Check that it works as expected:"
   ]
  },
  {
   "cell_type": "markdown",
   "id": "ZHCJ",
   "metadata": {
    "marimo": {
     "config": {
      "hide_code": true
     }
    }
   },
   "source": [
    "What fraction of crashes involved pedestrians?"
   ]
  },
  {
   "cell_type": "markdown",
   "id": "qnkX",
   "metadata": {
    "marimo": {
     "config": {
      "hide_code": true
     }
    }
   },
   "source": [
    "## Sorting the boolean indicators by counts"
   ]
  },
  {
   "cell_type": "markdown",
   "id": "TqIu",
   "metadata": {
    "marimo": {
     "config": {
      "hide_code": true
     }
    }
   },
   "source": [
    "There's a lot of different boolean values (those having values of either 0 or 1 like \"ALCOHOL_RELATED\") describing each event. Let's do a little analysis to try to get a handle on the relative prominence of each of these indicators."
   ]
  },
  {
   "cell_type": "markdown",
   "id": "DnEU",
   "metadata": {
    "marimo": {
     "config": {
      "hide_code": true
     }
    }
   },
   "source": [
    "# Using Pandas dataframes"
   ]
  },
  {
   "cell_type": "markdown",
   "id": "ulZA",
   "metadata": {
    "marimo": {
     "config": {
      "hide_code": true
     }
    }
   },
   "source": [
    "Load the data into a Pandas dataframe (kind of a spreadsheet-like data structure) to take advantage of the power of Pandas."
   ]
  },
  {
   "cell_type": "markdown",
   "id": "ZBYS",
   "metadata": {
    "marimo": {
     "config": {
      "hide_code": true
     }
    }
   },
   "source": [
    "Show the records where the vehicle count was 10 (the observed maximum):"
   ]
  },
  {
   "cell_type": "markdown",
   "id": "nHfw",
   "metadata": {
    "marimo": {
     "config": {
      "hide_code": true
     }
    }
   },
   "source": [
    "Select just the columns involving vehicle counts to find the distribution of vehicles in this accident:"
   ]
  },
  {
   "cell_type": "markdown",
   "id": "AjVT",
   "metadata": {
    "marimo": {
     "config": {
      "hide_code": true
     }
    }
   },
   "source": [
    "One of the two 10-vehicle accidents in 2017 involved 7 SUVs!"
   ]
  },
  {
   "cell_type": "markdown",
   "id": "pHFh",
   "metadata": {
    "marimo": {
     "config": {
      "hide_code": true
     }
    }
   },
   "source": [
    "Plot a histogram of accidents by vehicle count."
   ]
  },
  {
   "cell_type": "markdown",
   "id": "aqbW",
   "metadata": {
    "marimo": {
     "config": {
      "hide_code": true
     }
    }
   },
   "source": [
    "So one-car accidents are about half as common as two-car accidents, and then crashes with larger vehicle counts seem to drop off rapidly. To examine how they drop off, let's replot the histogram with a logarithmic y-axis:"
   ]
  },
  {
   "cell_type": "markdown",
   "id": "TXez",
   "metadata": {
    "marimo": {
     "config": {
      "hide_code": true
     }
    }
   },
   "source": [
    "The straight line that one could draw between *n* = 2 and *n* = 7 suggests that there's roughly an exponential drop-off in the frequency of *n*-vehicle accidents for *n* > 1. The bulge at the end represents a small number of accidents, but there could be an effect where car crashes in heavier traffic tend to avalanche, leading to more vehicles being sucked into the accident than one would expect based on the overall distribution.\n",
    "\n",
    "And what about that single crash on the left of the distribution that has a vehicle count of zero? Investigating that is left as an exercise to the reader."
   ]
  },
  {
   "cell_type": "markdown",
   "id": "dNNg",
   "metadata": {
    "marimo": {
     "config": {
      "hide_code": true
     }
    }
   },
   "source": [
    "# Using SQL Queries"
   ]
  },
  {
   "cell_type": "markdown",
   "id": "yCnT",
   "metadata": {
    "marimo": {
     "config": {
      "hide_code": true
     }
    }
   },
   "source": [
    "The WPRDC also provides for your convenience a cumulative table that has records for all Allegheny County vehicle crashes from 2004 through 2017: https://data.wprdc.org/dataset/allegheny-county-crash-data/resource/2c13021f-74a9-4289-a1e5-fe0472c89881"
   ]
  },
  {
   "cell_type": "markdown",
   "id": "kqZH",
   "metadata": {
    "marimo": {
     "config": {
      "hide_code": true
     }
    }
   },
   "source": [
    "While you can download the entire CSV file if you want using our streaming downloader from [https://tools.wprdc.org/downstream/2c13021f-74a9-4289-a1e5-fe0472c89881](https://tools.wprdc.org/downstream/2c13021f-74a9-4289-a1e5-fe0472c89881),\n",
    "you can also use SQL queries to get subsets of the crash records or to get the SQL database to do some of the computation for you.\n",
    "\n",
    "First we define a function to run a SQL query on a given CKAN site:"
   ]
  },
  {
   "cell_type": "markdown",
   "id": "rEll",
   "metadata": {
    "marimo": {
     "config": {
      "hide_code": true
     }
    }
   },
   "source": [
    "Then as a first example, we can write a query to count up 2017 crash records, grouping them by the month that the crash took place in."
   ]
  },
  {
   "cell_type": "markdown",
   "id": "lgWD",
   "metadata": {
    "marimo": {
     "config": {
      "hide_code": true
     }
    }
   },
   "source": [
    "Let's import some libraries so we can make a bar chart of 2017 crashes by month."
   ]
  },
  {
   "cell_type": "markdown",
   "id": "LJZf",
   "metadata": {
    "marimo": {
     "config": {
      "hide_code": true
     }
    }
   },
   "source": [
    "Let's tweak the previous query a little, using the year instead of the month and switching the resource ID to that for the cumulative (2004-2017) data."
   ]
  },
  {
   "cell_type": "markdown",
   "id": "mWxS",
   "metadata": {
    "marimo": {
     "config": {
      "hide_code": true
     }
    }
   },
   "source": [
    "Are there any trends in alcohol-related car crashes?"
   ]
  },
  {
   "cell_type": "markdown",
   "id": "xvXZ",
   "metadata": {
    "marimo": {
     "config": {
      "hide_code": true
     }
    }
   },
   "source": [
    "There might be a decrease in the absolute number of alcohol-related crashes from the 2004-2010 period to the 2011-2017 period, but it's difficult to say. (As of 2025, the trend looks clearer, but the reduction may simply be a reduction in overall number of crashes.) We can try normalizing alcohol-related crashes by year with respect to total crashes per year:"
   ]
  },
  {
   "cell_type": "markdown",
   "id": "YECM",
   "metadata": {
    "marimo": {
     "config": {
      "hide_code": true
     }
    }
   },
   "source": [
    "Again, there could be a decreasing trend (with noise on top of it), but this is hardly conclusive. (But now, as of 2025, the trend does appear more convincing.)"
   ]
  },
  {
   "cell_type": "code",
   "execution_count": null,
   "id": "iXej",
   "metadata": {},
   "outputs": [],
   "source": []
  }
 ],
 "metadata": {},
 "nbformat": 4,
 "nbformat_minor": 5
}
